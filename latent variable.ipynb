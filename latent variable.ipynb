{
 "cells": [
  {
   "cell_type": "code",
   "execution_count": 3,
   "id": "feeec32b",
   "metadata": {},
   "outputs": [
    {
     "name": "stderr",
     "output_type": "stream",
     "text": [
      "C:\\Users\\NIU004\\Anaconda3\\envs\\notebook\\lib\\site-packages\\scipy\\__init__.py:146: UserWarning: A NumPy version >=1.16.5 and <1.23.0 is required for this version of SciPy (detected version 1.23.4\n",
      "  warnings.warn(f\"A NumPy version >={np_minversion} and <{np_maxversion}\"\n"
     ]
    }
   ],
   "source": [
    "import time\n",
    "import numpy as np\n",
    "import matplotlib.pyplot as plt\n",
    "from scipy import linalg, stats"
   ]
  },
  {
   "cell_type": "code",
   "execution_count": 4,
   "id": "4b5b05e6",
   "metadata": {},
   "outputs": [
    {
     "name": "stdout",
     "output_type": "stream",
     "text": [
      "Generating synthetic data with seed = 54\n"
     ]
    }
   ],
   "source": [
    "seed = 54\n",
    "# Generate some synthetic data with outliers in them\n",
    "print(\"Generating synthetic data with seed = {}\".format(seed))\n",
    "np.random.seed(seed)"
   ]
  },
  {
   "cell_type": "code",
   "execution_count": 7,
   "id": "b61445a8",
   "metadata": {},
   "outputs": [
    {
     "name": "stdout",
     "output_type": "stream",
     "text": [
      "[False  True False False False False False  True False False False False\n",
      " False False False False False False  True False  True False False False\n",
      " False]\n"
     ]
    }
   ],
   "source": [
    "xmin, xmax, sigma2, V, p, N = 0, 5, 1.0, 100.0, 0.15, 25\n",
    "x = np.sort(np.random.uniform(xmin, xmax, size=N))\n",
    "\n",
    "phi_x = np.vstack([x**0, x**1, x**2])\n",
    "\n",
    "w = np.array([5, 0.2, 0.3])\n",
    "q = (np.random.uniform(size=N) < p)\n",
    "print(q)\n",
    "y = np.dot(w, phi_x) + np.sqrt(sigma2 + q*V)*np.random.normal(size=N)"
   ]
  },
  {
   "cell_type": "code",
   "execution_count": null,
   "id": "6a85a603",
   "metadata": {},
   "outputs": [],
   "source": []
  }
 ],
 "metadata": {
  "kernelspec": {
   "display_name": "Python 3 (ipykernel)",
   "language": "python",
   "name": "python3"
  },
  "language_info": {
   "codemirror_mode": {
    "name": "ipython",
    "version": 3
   },
   "file_extension": ".py",
   "mimetype": "text/x-python",
   "name": "python",
   "nbconvert_exporter": "python",
   "pygments_lexer": "ipython3",
   "version": "3.9.13"
  }
 },
 "nbformat": 4,
 "nbformat_minor": 5
}
